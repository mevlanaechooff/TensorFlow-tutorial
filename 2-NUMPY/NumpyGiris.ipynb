{
 "cells": [
  {
   "cell_type": "code",
   "execution_count": 1,
   "id": "037069e9-810b-476e-bf6e-01aa7a98c132",
   "metadata": {},
   "outputs": [],
   "source": [
    "import numpy as np"
   ]
  },
  {
   "cell_type": "markdown",
   "id": "60f8e4ac-b03e-420f-add6-7af691e89514",
   "metadata": {},
   "source": [
    "## Numpy arrays"
   ]
  },
  {
   "cell_type": "code",
   "execution_count": 2,
   "id": "887bea68-3eb4-483f-a522-0971bfe1568b",
   "metadata": {},
   "outputs": [],
   "source": [
    "myList = [20,30,40] #liste oluşturdum"
   ]
  },
  {
   "cell_type": "code",
   "execution_count": 3,
   "id": "2b2daf0f-b9be-4be6-8b6e-35c1f18e847b",
   "metadata": {},
   "outputs": [
    {
     "data": {
      "text/plain": [
       "array([20, 30, 40])"
      ]
     },
     "execution_count": 3,
     "metadata": {},
     "output_type": "execute_result"
    }
   ],
   "source": [
    "np.array(myList) # np ile listemi dizi haline getirdim"
   ]
  },
  {
   "cell_type": "code",
   "execution_count": 4,
   "id": "9b4316d7-ecd6-4779-bf8a-50b40657a0f8",
   "metadata": {},
   "outputs": [],
   "source": [
    "matrixList = [[20,30,40],[50,60,70],[80,90,100]]"
   ]
  },
  {
   "cell_type": "code",
   "execution_count": 5,
   "id": "dc18bd33-f090-4f4a-a073-b66578c0c7db",
   "metadata": {},
   "outputs": [
    {
     "data": {
      "text/plain": [
       "array([[ 20,  30,  40],\n",
       "       [ 50,  60,  70],\n",
       "       [ 80,  90, 100]])"
      ]
     },
     "execution_count": 5,
     "metadata": {},
     "output_type": "execute_result"
    }
   ],
   "source": [
    "np.array(matrixList)"
   ]
  },
  {
   "cell_type": "code",
   "execution_count": 6,
   "id": "4ddd6021-ef49-421a-9cb8-c5ce006c0a98",
   "metadata": {},
   "outputs": [
    {
     "data": {
      "text/plain": [
       "array([ 0,  2,  4,  6,  8, 10, 12, 14, 16, 18])"
      ]
     },
     "execution_count": 6,
     "metadata": {},
     "output_type": "execute_result"
    }
   ],
   "source": [
    "# np ile matrix oluştururken referans olarak illa liste kullanmamıza gerek yok range() fonksiyonuda kullanabilirizi\n",
    "\n",
    "myList2 = range(0,20,2)\n",
    "np.array(myList2)"
   ]
  },
  {
   "cell_type": "markdown",
   "id": "12fc8dc9-98b6-4684-afaf-ad72de185bfe",
   "metadata": {},
   "source": [
    "## arange"
   ]
  },
  {
   "cell_type": "code",
   "execution_count": 7,
   "id": "b5aac291-8f56-41bb-b78f-1f3d1fbc60da",
   "metadata": {},
   "outputs": [
    {
     "data": {
      "text/plain": [
       "array([0, 1, 2, 3, 4, 5, 6, 7, 8, 9])"
      ]
     },
     "execution_count": 7,
     "metadata": {},
     "output_type": "execute_result"
    }
   ],
   "source": [
    "np.arange(0,10) # range fonksiyonunun numpy'de kullanımı ama bu yöntem ile direkt dizi oluşturuyoruz liste değil"
   ]
  },
  {
   "cell_type": "markdown",
   "id": "896f8722-4460-417d-b3be-994d5ad7cd2a",
   "metadata": {},
   "source": [
    "## zeros"
   ]
  },
  {
   "cell_type": "code",
   "execution_count": 8,
   "id": "c6720bde-03c4-47a8-bbb2-8312974c5993",
   "metadata": {},
   "outputs": [
    {
     "data": {
      "text/plain": [
       "array([0., 0., 0., 0., 0.])"
      ]
     },
     "execution_count": 8,
     "metadata": {},
     "output_type": "execute_result"
    }
   ],
   "source": [
    "np.zeros(5)  # sıfır oluşturmaya yarayan bir methoddur"
   ]
  },
  {
   "cell_type": "code",
   "execution_count": 9,
   "id": "566325ee-61aa-467a-83ef-11b8158347ca",
   "metadata": {},
   "outputs": [
    {
     "data": {
      "text/plain": [
       "array([[0., 0.],\n",
       "       [0., 0.]])"
      ]
     },
     "execution_count": 9,
     "metadata": {},
     "output_type": "execute_result"
    }
   ],
   "source": [
    "#matrix şeklinde yazalım\n",
    "np.zeros((2,2))"
   ]
  },
  {
   "cell_type": "markdown",
   "id": "df1da6a8-a809-47bb-bc0c-950808a10640",
   "metadata": {},
   "source": [
    "## ones"
   ]
  },
  {
   "cell_type": "code",
   "execution_count": 10,
   "id": "8ecb6870-adab-4d1a-928a-f49958b76bb4",
   "metadata": {},
   "outputs": [
    {
     "data": {
      "text/plain": [
       "array([1., 1., 1., 1., 1., 1., 1., 1.])"
      ]
     },
     "execution_count": 10,
     "metadata": {},
     "output_type": "execute_result"
    }
   ],
   "source": [
    "np.ones(8)"
   ]
  },
  {
   "cell_type": "code",
   "execution_count": 11,
   "id": "a3fa2899-9f48-4113-a634-b9e2baeb1fac",
   "metadata": {},
   "outputs": [
    {
     "data": {
      "text/plain": [
       "array([[1., 1., 1., 1., 1., 1., 1., 1., 1.],\n",
       "       [1., 1., 1., 1., 1., 1., 1., 1., 1.],\n",
       "       [1., 1., 1., 1., 1., 1., 1., 1., 1.],\n",
       "       [1., 1., 1., 1., 1., 1., 1., 1., 1.],\n",
       "       [1., 1., 1., 1., 1., 1., 1., 1., 1.],\n",
       "       [1., 1., 1., 1., 1., 1., 1., 1., 1.],\n",
       "       [1., 1., 1., 1., 1., 1., 1., 1., 1.],\n",
       "       [1., 1., 1., 1., 1., 1., 1., 1., 1.],\n",
       "       [1., 1., 1., 1., 1., 1., 1., 1., 1.]])"
      ]
     },
     "execution_count": 11,
     "metadata": {},
     "output_type": "execute_result"
    }
   ],
   "source": [
    "np.ones((9,9))"
   ]
  },
  {
   "cell_type": "markdown",
   "id": "012dc981-df52-4c78-aa9b-8cc043e374ec",
   "metadata": {},
   "source": [
    "## linspace"
   ]
  },
  {
   "cell_type": "code",
   "execution_count": 12,
   "id": "09256c38-68e0-4c85-8a47-7e535c692499",
   "metadata": {},
   "outputs": [
    {
     "data": {
      "text/plain": [
       "array([ 0.,  5., 10., 15., 20.])"
      ]
     },
     "execution_count": 12,
     "metadata": {},
     "output_type": "execute_result"
    }
   ],
   "source": [
    "np.linspace(0,20,5) # belirttiğimiz numaralar arasında eşit olarak aralık bırakılmış şekilde dizi tanımlar 0-20 arası 5 birim mesafe koyarak git"
   ]
  },
  {
   "cell_type": "code",
   "execution_count": 13,
   "id": "7730b0e0-d14b-4b80-8039-bfd0ff82568b",
   "metadata": {},
   "outputs": [
    {
     "data": {
      "text/plain": [
       "array([ 0.        ,  0.52631579,  1.05263158,  1.57894737,  2.10526316,\n",
       "        2.63157895,  3.15789474,  3.68421053,  4.21052632,  4.73684211,\n",
       "        5.26315789,  5.78947368,  6.31578947,  6.84210526,  7.36842105,\n",
       "        7.89473684,  8.42105263,  8.94736842,  9.47368421, 10.        ])"
      ]
     },
     "execution_count": 13,
     "metadata": {},
     "output_type": "execute_result"
    }
   ],
   "source": [
    "np.linspace(0,10,20)"
   ]
  },
  {
   "cell_type": "markdown",
   "id": "012e68d0-ab99-4669-9249-d4c2fc3e8d94",
   "metadata": {},
   "source": [
    "## eye"
   ]
  },
  {
   "cell_type": "code",
   "execution_count": 14,
   "id": "099addbd-121e-4f86-bbc5-42c14cfd1944",
   "metadata": {},
   "outputs": [
    {
     "data": {
      "text/plain": [
       "array([[1., 0., 0., 0., 0., 0., 0., 0., 0., 0.],\n",
       "       [0., 1., 0., 0., 0., 0., 0., 0., 0., 0.],\n",
       "       [0., 0., 1., 0., 0., 0., 0., 0., 0., 0.],\n",
       "       [0., 0., 0., 1., 0., 0., 0., 0., 0., 0.],\n",
       "       [0., 0., 0., 0., 1., 0., 0., 0., 0., 0.],\n",
       "       [0., 0., 0., 0., 0., 1., 0., 0., 0., 0.],\n",
       "       [0., 0., 0., 0., 0., 0., 1., 0., 0., 0.],\n",
       "       [0., 0., 0., 0., 0., 0., 0., 1., 0., 0.],\n",
       "       [0., 0., 0., 0., 0., 0., 0., 0., 1., 0.],\n",
       "       [0., 0., 0., 0., 0., 0., 0., 0., 0., 1.]])"
      ]
     },
     "execution_count": 14,
     "metadata": {},
     "output_type": "execute_result"
    }
   ],
   "source": [
    "np.eye(10)"
   ]
  },
  {
   "cell_type": "markdown",
   "id": "9ef5c34c-3130-43f7-94e9-710cdeae35c3",
   "metadata": {},
   "source": [
    "## random"
   ]
  },
  {
   "cell_type": "code",
   "execution_count": 18,
   "id": "2b9c0efe-dbda-4b87-9c9c-3333584acf9c",
   "metadata": {},
   "outputs": [
    {
     "data": {
      "text/plain": [
       "array([ 0.30287904,  0.13128006,  0.20646907, -0.22888908,  0.12311901,\n",
       "       -0.16072144,  0.1905775 , -2.16170268])"
      ]
     },
     "execution_count": 18,
     "metadata": {},
     "output_type": "execute_result"
    }
   ],
   "source": [
    "np.random.randn(8)             # rastgele sayıların döneceği bir dizi tanımlama işlemidir"
   ]
  },
  {
   "cell_type": "code",
   "execution_count": 20,
   "id": "6f491e0f-5d67-4e18-8eb5-8126bd885c99",
   "metadata": {},
   "outputs": [
    {
     "data": {
      "text/plain": [
       "array([[-0.53495906,  1.50841566, -0.11350725],\n",
       "       [-0.74213582,  0.60388479, -1.34251437],\n",
       "       [ 0.84068417, -1.50018803,  0.05548457]])"
      ]
     },
     "execution_count": 20,
     "metadata": {},
     "output_type": "execute_result"
    }
   ],
   "source": [
    "np.random.randn(3,3)  # matrixli şekilde de yapabiliyoruz"
   ]
  },
  {
   "cell_type": "code",
   "execution_count": 26,
   "id": "384d1e3b-9e9e-4d9b-98a9-9f624406385a",
   "metadata": {},
   "outputs": [
    {
     "data": {
      "text/plain": [
       "7"
      ]
     },
     "execution_count": 26,
     "metadata": {},
     "output_type": "execute_result"
    }
   ],
   "source": [
    "np.random.randint(1,10)        # tekli bir şekilde rastgele bir sayı dönderir"
   ]
  },
  {
   "cell_type": "code",
   "execution_count": 27,
   "id": "0796e856-ecd4-4460-a97d-a32e811c10a7",
   "metadata": {},
   "outputs": [
    {
     "data": {
      "text/plain": [
       "array([7, 7, 5, 9, 9], dtype=int32)"
      ]
     },
     "execution_count": 27,
     "metadata": {},
     "output_type": "execute_result"
    }
   ],
   "source": [
    "np.random.randint(1,10,5)  # 5 tane rastgele sayı çeviriyor"
   ]
  },
  {
   "cell_type": "code",
   "execution_count": 29,
   "id": "9726167b-172e-4c35-a07f-fcf22798ed3a",
   "metadata": {},
   "outputs": [
    {
     "data": {
      "text/plain": [
       "array([ 0,  1,  2,  3,  4,  5,  6,  7,  8,  9, 10, 11, 12, 13, 14, 15, 16,\n",
       "       17, 18, 19, 20, 21, 22, 23, 24, 25, 26, 27, 28, 29])"
      ]
     },
     "execution_count": 29,
     "metadata": {},
     "output_type": "execute_result"
    }
   ],
   "source": [
    "# bunları bir değişkene tayabiliriz\n",
    "benimNumpyDizim = np.arange(30)\n",
    "benimNumpyDizim"
   ]
  },
  {
   "cell_type": "code",
   "execution_count": 30,
   "id": "f6db2b07-598e-4623-a288-00d63c9c1fe3",
   "metadata": {},
   "outputs": [
    {
     "data": {
      "text/plain": [
       "array([ 6,  9,  8, 19,  2, 38, 31,  4,  0, 29], dtype=int32)"
      ]
     },
     "execution_count": 30,
     "metadata": {},
     "output_type": "execute_result"
    }
   ],
   "source": [
    "benimRandomDizim = np.random.randint(0,40,10)\n",
    "benimRandomDizim"
   ]
  },
  {
   "cell_type": "raw",
   "id": "cc6f6087-baff-4c91-9f9f-aa5a5e8ccc05",
   "metadata": {},
   "source": [
    "for sayı in benimRandomDizim:\n",
    "    tahmin = int(input(\"Tahmininiz nedir?\"))\n",
    "    if tahmin == sayı:\n",
    "        print(\"Doğru bildiniz\")\n",
    "        \n",
    "    else:\n",
    "        print(\"Yanlış!!\")\n",
    "        break"
   ]
  },
  {
   "cell_type": "markdown",
   "id": "49fe00c1-3d67-460a-9407-272a9839213b",
   "metadata": {},
   "source": [
    "## numpy dizi methodları"
   ]
  },
  {
   "cell_type": "code",
   "execution_count": null,
   "id": "0d4b2fff-711d-47b1-9232-f6c15e05286a",
   "metadata": {},
   "outputs": [],
   "source": []
  }
 ],
 "metadata": {
  "kernelspec": {
   "display_name": "Python 3 (ipykernel)",
   "language": "python",
   "name": "python3"
  },
  "language_info": {
   "codemirror_mode": {
    "name": "ipython",
    "version": 3
   },
   "file_extension": ".py",
   "mimetype": "text/x-python",
   "name": "python",
   "nbconvert_exporter": "python",
   "pygments_lexer": "ipython3",
   "version": "3.13.0"
  }
 },
 "nbformat": 4,
 "nbformat_minor": 5
}
