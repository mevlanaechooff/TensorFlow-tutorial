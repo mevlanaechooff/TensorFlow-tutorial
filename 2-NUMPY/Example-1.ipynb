{
 "cells": [
  {
   "cell_type": "code",
   "execution_count": 4,
   "id": "85d641e1-9d50-4c75-928c-007a2905f638",
   "metadata": {},
   "outputs": [
    {
     "name": "stdin",
     "output_type": "stream",
     "text": [
      "Tahmininiz nedir? :  50\n"
     ]
    },
    {
     "name": "stdout",
     "output_type": "stream",
     "text": [
      "Daha küçük !.. Kalan hakkınız 3\n"
     ]
    },
    {
     "name": "stdin",
     "output_type": "stream",
     "text": [
      "Tahmininiz nedir? :  40\n"
     ]
    },
    {
     "name": "stdout",
     "output_type": "stream",
     "text": [
      "Daha küçük !.. Kalan hakkınız 2\n"
     ]
    },
    {
     "name": "stdin",
     "output_type": "stream",
     "text": [
      "Tahmininiz nedir? :  15\n"
     ]
    },
    {
     "name": "stdout",
     "output_type": "stream",
     "text": [
      "Daha büyük !.. Kalan hakkınız1\n"
     ]
    },
    {
     "name": "stdin",
     "output_type": "stream",
     "text": [
      "Tahmininiz nedir? :  19\n"
     ]
    },
    {
     "name": "stdout",
     "output_type": "stream",
     "text": [
      "Daha büyük !.. Kalan hakkınız0\n"
     ]
    },
    {
     "name": "stdin",
     "output_type": "stream",
     "text": [
      "Tahmininiz nedir? :  555\n"
     ]
    },
    {
     "name": "stdout",
     "output_type": "stream",
     "text": [
      "Daha küçük !.. Kalan hakkınız -1\n"
     ]
    }
   ],
   "source": [
    "# sayı tahmin oyunu.\n",
    "import numpy as np\n",
    "\n",
    "gizemliSayi = np.random.randint(1,100,5)\n",
    "hak = 4\n",
    "\n",
    "\n",
    "for i in gizemliSayi:\n",
    "    tahmin = int(input(\"Tahmininiz nedir? : \"))\n",
    "\n",
    "    if tahmin == i :\n",
    "        print(\"Doğru tahmin!!\")\n",
    "        break\n",
    "\n",
    "    elif tahmin > i :\n",
    "        hak -= 1\n",
    "        print(\"Daha küçük !.. Kalan hakkınız {}\".format(hak))\n",
    "\n",
    "    elif tahmin < i :\n",
    "        hak -= 1\n",
    "        print(\"Daha büyük !.. Kalan hakkınız{}\".format(hak))\n",
    "\n",
    "    elif hak == 0 :\n",
    "        print(\"Hakkınız bitmiştir !..\")\n",
    "        break\n",
    "        "
   ]
  },
  {
   "cell_type": "code",
   "execution_count": null,
   "id": "04d42c0d-a41b-4bed-8512-af893d52b489",
   "metadata": {},
   "outputs": [],
   "source": []
  }
 ],
 "metadata": {
  "kernelspec": {
   "display_name": "Python 3 (ipykernel)",
   "language": "python",
   "name": "python3"
  },
  "language_info": {
   "codemirror_mode": {
    "name": "ipython",
    "version": 3
   },
   "file_extension": ".py",
   "mimetype": "text/x-python",
   "name": "python",
   "nbconvert_exporter": "python",
   "pygments_lexer": "ipython3",
   "version": "3.13.0"
  }
 },
 "nbformat": 4,
 "nbformat_minor": 5
}
