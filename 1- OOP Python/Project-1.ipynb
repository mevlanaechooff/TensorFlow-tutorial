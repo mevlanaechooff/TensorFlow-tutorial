{
 "cells": [
  {
   "cell_type": "markdown",
   "id": "3bf5255d-e780-4a82-bcee-d7b23dc85e55",
   "metadata": {},
   "source": [
    "## Ürün Kataloğu Oluşturucu -- Pratik Projeler"
   ]
  },
  {
   "cell_type": "code",
   "execution_count": 10,
   "id": "e1e0eae2-532c-42a4-9cee-d1b4bf4f7806",
   "metadata": {},
   "outputs": [],
   "source": [
    "class Urunler():\n",
    "    kdv = 0.20\n",
    "    def __init__(self,urunBarkod,urunKategori,urunIsim,urunStok,urunAlis,urunSatis):\n",
    "        self.urunBarkod = urunBarkod\n",
    "        self.urunKategori = urunKategori\n",
    "        self.urunIsim = urunIsim\n",
    "        self.urunStok = urunStok\n",
    "        self.urunAlis = urunAlis\n",
    "        self.urunSatis = urunSatis\n",
    "\n",
    "    def kdv():\n",
    "        pass\n",
    "        kdvli = (kdv * urunSatis) + urunSatis\n",
    "        print(\"Ürünün katalog satış fiyatı {} KDV'li satış fiyatı {}\".format(urunSatis,kdvli))"
   ]
  },
  {
   "cell_type": "code",
   "execution_count": 5,
   "id": "f1eb9b4a-ad8a-4e7a-9bfb-cee3202e69f9",
   "metadata": {},
   "outputs": [],
   "source": [
    "disFircasi = Urunler(1,\"Kişisel Bakım\",\"Diş Fırçası\",\"Var\",15,20)\n",
    "deodrant = Urunler(2,\"Kişisel Bakım\",\"Deodrant\",\"Var\",20,32)\n",
    "mouse = Urunler(3,\"Teknoloji\",\"Mouse\",\"Var\",150,210)\n",
    "sigara = Urunler(4,\"Tütün Mamulleri\",\"Parliament Midnight Blue\",\"Var\",69,80)\n",
    "mesrubat = Urunler(5,\"Soğuk İçecek\",\"Coca-Cola\",\"Var\",12,20)"
   ]
  },
  {
   "cell_type": "code",
   "execution_count": 14,
   "id": "34ef4609-288c-4f37-849c-a01192da575b",
   "metadata": {},
   "outputs": [
    {
     "name": "stdout",
     "output_type": "stream",
     "text": [
      "\n",
      "\n",
      "Ürün Barkod no: 5\n",
      "Ürün Kategori:  Soğuk İçecek\n",
      "Ürün İsim: Coca-Cola\n",
      "Ürün Stok: Var\n",
      "Ürün Fiyatı: 20\n",
      "\n",
      "     \n",
      "    \n"
     ]
    }
   ],
   "source": [
    "print(\"\"\"\n",
    "\n",
    "Ürün Barkod no: {}\n",
    "Ürün Kategori:  {}\n",
    "Ürün İsim: {}\n",
    "Ürün Stok: {}\n",
    "Ürün Fiyatı: {}\n",
    "\n",
    "     \n",
    "    \"\"\".format(mesrubat.urunBarkod,mesrubat.urunKategori,mesrubat.urunIsim,mesrubat.urunStok,mesrubat.urunSatis))"
   ]
  },
  {
   "cell_type": "code",
   "execution_count": null,
   "id": "319a8ff8-a320-4249-84cc-b27618024279",
   "metadata": {},
   "outputs": [],
   "source": []
  },
  {
   "cell_type": "code",
   "execution_count": null,
   "id": "f0d53bd7-5237-4bd2-9f14-6cedaaa0a18b",
   "metadata": {},
   "outputs": [],
   "source": []
  }
 ],
 "metadata": {
  "kernelspec": {
   "display_name": "Python 3 (ipykernel)",
   "language": "python",
   "name": "python3"
  },
  "language_info": {
   "codemirror_mode": {
    "name": "ipython",
    "version": 3
   },
   "file_extension": ".py",
   "mimetype": "text/x-python",
   "name": "python",
   "nbconvert_exporter": "python",
   "pygments_lexer": "ipython3",
   "version": "3.13.0"
  }
 },
 "nbformat": 4,
 "nbformat_minor": 5
}
