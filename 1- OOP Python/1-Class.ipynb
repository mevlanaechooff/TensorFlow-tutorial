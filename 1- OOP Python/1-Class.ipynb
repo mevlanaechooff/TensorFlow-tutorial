{
 "cells": [
  {
   "cell_type": "markdown",
   "id": "d6293e84-8a25-4b8f-90bb-6747e6d83d5b",
   "metadata": {},
   "source": [
    "## Instance && Attribute\n",
    "\n",
    "Aslında değişken atayarakta yapabileceğimiz işlmelerdir bunlar. Fakat on tane süper kahraman için 10 ayrı değişken \n",
    "çirkin bir kod düzeni vereceğinden Sınıf yapılarını kullanabiliriz."
   ]
  },
  {
   "cell_type": "code",
   "execution_count": 13,
   "id": "921be823-613d-4b25-a1b5-44c45658964b",
   "metadata": {},
   "outputs": [],
   "source": [
    "class SuperKahraman():\n",
    "\n",
    "    # __init__ içine özellik yazmak zorunda değiliz buraya da yazabiliriz.\n",
    "    def __init__(self,isimInput,yasInput,meslekInput):                   # Başlatma fonks. olarak düşünebiliriz.\n",
    "        print(\"init çağırıldı.\")                                         # Input yazmamın sebebi alacakları değer olduğunu ifade etmek için.\n",
    "        self.isim = isimInput\n",
    "        self.yas = yasInput\n",
    "        self.meslek = meslekInput\n",
    "   "
   ]
  },
  {
   "cell_type": "code",
   "execution_count": 5,
   "id": "2ba3add5-967e-4984-8a53-622d438a7b9d",
   "metadata": {},
   "outputs": [
    {
     "name": "stdout",
     "output_type": "stream",
     "text": [
      "init çağırıldı.\n"
     ]
    }
   ],
   "source": [
    "superman = SuperKahraman(\"Superman\" , 30 , \"Gazeteci\")"
   ]
  },
  {
   "cell_type": "code",
   "execution_count": 6,
   "id": "adb2b83c-2c7a-4a3f-92c5-aae1ce494f3c",
   "metadata": {},
   "outputs": [
    {
     "data": {
      "text/plain": [
       "'Superman'"
      ]
     },
     "execution_count": 6,
     "metadata": {},
     "output_type": "execute_result"
    }
   ],
   "source": [
    "superman.isim # objemize referans verebildik. "
   ]
  },
  {
   "cell_type": "code",
   "execution_count": 7,
   "id": "d72ff65d-5ab1-4a74-bfab-2f9c672fba15",
   "metadata": {},
   "outputs": [],
   "source": [
    "superman.meslek = \"Saksocu\""
   ]
  },
  {
   "cell_type": "code",
   "execution_count": 14,
   "id": "ca20d655-5eff-4850-97f6-a187541c5d9e",
   "metadata": {},
   "outputs": [
    {
     "data": {
      "text/plain": [
       "'Saksocu'"
      ]
     },
     "execution_count": 14,
     "metadata": {},
     "output_type": "execute_result"
    }
   ],
   "source": [
    "superman.meslek # Gazeteci olan meslek değerini yukarıda ki gibi değiştirdim."
   ]
  },
  {
   "cell_type": "code",
   "execution_count": null,
   "id": "7a954061-461d-4561-b527-5e75635b53ac",
   "metadata": {},
   "outputs": [],
   "source": []
  }
 ],
 "metadata": {
  "kernelspec": {
   "display_name": "Python 3 (ipykernel)",
   "language": "python",
   "name": "python3"
  },
  "language_info": {
   "codemirror_mode": {
    "name": "ipython",
    "version": 3
   },
   "file_extension": ".py",
   "mimetype": "text/x-python",
   "name": "python",
   "nbconvert_exporter": "python",
   "pygments_lexer": "ipython3",
   "version": "3.13.0"
  }
 },
 "nbformat": 4,
 "nbformat_minor": 5
}
