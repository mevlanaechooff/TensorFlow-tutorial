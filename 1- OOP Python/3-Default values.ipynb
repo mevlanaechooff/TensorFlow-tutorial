{
 "cells": [
  {
   "cell_type": "code",
   "execution_count": 10,
   "id": "c62b40da-a914-4c15-95fc-36c1dbbf4f75",
   "metadata": {},
   "outputs": [],
   "source": [
    "class Kopek():\n",
    "\n",
    "    def __init__(self,yas=3):\n",
    "        self.yas = yas"
   ]
  },
  {
   "cell_type": "code",
   "execution_count": 16,
   "id": "27a34893-cc54-468e-9d4a-e5501f422b80",
   "metadata": {},
   "outputs": [],
   "source": [
    "benimKopek = Kopek() # Her zaman parantez içine değer vermemize gerek yok yukarıda self içine yas değişkenine karşılık sabit bir değer verebilirim. "
   ]
  },
  {
   "cell_type": "code",
   "execution_count": 18,
   "id": "37279635-cef9-4841-9be2-0d47f0b6d9c8",
   "metadata": {},
   "outputs": [
    {
     "data": {
      "text/plain": [
       "3"
      ]
     },
     "execution_count": 18,
     "metadata": {},
     "output_type": "execute_result"
    }
   ],
   "source": [
    "benimKopek.yas # Yukarıda yaptıklarım defaul işlemler içindir üzerine yazma yapılabilir yani yukarıda yaş 3 diye değerlenmişse\n",
    "               # yas(5) yaptığım zaman 5 değerini döndürebilir."
   ]
  },
  {
   "cell_type": "code",
   "execution_count": 26,
   "id": "07af1083-9f9f-4564-a870-eb232fd2b63e",
   "metadata": {},
   "outputs": [],
   "source": [
    "class yasHesapla():\n",
    "\n",
    "    def __init__(self,kopekyas):\n",
    "        self.kopekyas = kopekyas\n",
    "        print(\"Köpeğin yaşı {} ise insanın yaşı {} diye düşünülebilir.\".format(kopekyas, kopekyas*7))"
   ]
  },
  {
   "cell_type": "code",
   "execution_count": 27,
   "id": "fdc9af06-c1e4-4291-b780-f2d0de469eb0",
   "metadata": {},
   "outputs": [
    {
     "name": "stdout",
     "output_type": "stream",
     "text": [
      "Köpeğin yaşı 5 ise insanın yaşı 35 diye düşünülebilir.\n"
     ]
    }
   ],
   "source": [
    "kopek1 = yasHesapla(5)"
   ]
  }
 ],
 "metadata": {
  "kernelspec": {
   "display_name": "Python 3 (ipykernel)",
   "language": "python",
   "name": "python3"
  },
  "language_info": {
   "codemirror_mode": {
    "name": "ipython",
    "version": 3
   },
   "file_extension": ".py",
   "mimetype": "text/x-python",
   "name": "python",
   "nbconvert_exporter": "python",
   "pygments_lexer": "ipython3",
   "version": "3.13.0"
  }
 },
 "nbformat": 4,
 "nbformat_minor": 5
}
