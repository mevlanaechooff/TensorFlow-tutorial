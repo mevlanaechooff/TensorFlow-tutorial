{
 "cells": [
  {
   "cell_type": "markdown",
   "id": "603cde05-5c29-4e9d-969d-2f67995a01c5",
   "metadata": {},
   "source": [
    "## Methods"
   ]
  },
  {
   "cell_type": "code",
   "execution_count": 14,
   "id": "aeda18c3-f84c-4b39-9940-0fcc6301dac9",
   "metadata": {},
   "outputs": [],
   "source": [
    "# Tekrardan bir Class tanımlaması yapacağım ve bu class'a ek methodlar ekleyeceğim\n",
    "\n",
    "class SuperKahraman():\n",
    "\n",
    "    def __init__(self,isim,yas,meslek):\n",
    "        self.isim = isim\n",
    "        self.yas = yas\n",
    "        self.meslek = meslek\n",
    "\n",
    "# Örnek method ekliyorum\n",
    "\n",
    "    def ornekMethod(self):\n",
    "        print(\"Ben örnek bir methodum ve mesleğim: {}\".format(self.meslek))\n",
    "        "
   ]
  },
  {
   "cell_type": "code",
   "execution_count": 15,
   "id": "8d7f967e-1bc8-4108-b242-463234dd66fa",
   "metadata": {},
   "outputs": [
    {
     "data": {
      "text/plain": [
       "'John'"
      ]
     },
     "execution_count": 15,
     "metadata": {},
     "output_type": "execute_result"
    }
   ],
   "source": [
    "deadpoll = SuperKahraman(\"John\" , 40 , \"Tetikçi\")\n",
    "superman = SuperKahraman(\"Şeyhmus\" , 25 , \"Lamer\")\n",
    "wolverine = SuperKahraman(\"Logan\" , 40 , \"Alkolik\")\n",
    "deadpoll.isim\n",
    "# SuperKahraman sınıfına birden fazla ekleme yaptım böylelikle her süper kahraman için değişken oluşturmak zorunda kalmadım."
   ]
  },
  {
   "cell_type": "code",
   "execution_count": 16,
   "id": "fcf15132-046c-432d-81e2-5659bd54ed35",
   "metadata": {},
   "outputs": [
    {
     "name": "stdout",
     "output_type": "stream",
     "text": [
      "Ben örnek bir methodum ve mesleğim: Tetikçi\n"
     ]
    }
   ],
   "source": [
    "deadpoll.ornekMethod() # Böylelikle oluşturduğum sınıflara ek methodlar ekleyebildim"
   ]
  },
  {
   "cell_type": "code",
   "execution_count": null,
   "id": "e6d8bbb5-d6ff-4cae-b0d5-68e974e9f623",
   "metadata": {},
   "outputs": [],
   "source": []
  }
 ],
 "metadata": {
  "kernelspec": {
   "display_name": "Python 3 (ipykernel)",
   "language": "python",
   "name": "python3"
  },
  "language_info": {
   "codemirror_mode": {
    "name": "ipython",
    "version": 3
   },
   "file_extension": ".py",
   "mimetype": "text/x-python",
   "name": "python",
   "nbconvert_exporter": "python",
   "pygments_lexer": "ipython3",
   "version": "3.13.0"
  }
 },
 "nbformat": 4,
 "nbformat_minor": 5
}
